{
 "cells": [
  {
   "cell_type": "markdown",
   "metadata": {
    "id": "VGdIupeGsYNB"
   },
   "source": [
    "# **Using Python to encrypt and decrypt text**\n",
    "\n",
    "In order to do AES encryption and decrytion, we need to download the PyCryptodome packaga via pip."
   ]
  },
  {
   "cell_type": "code",
   "execution_count": null,
   "metadata": {
    "colab": {
     "base_uri": "https://localhost:8080/"
    },
    "id": "GgeXo7jBsXHc",
    "outputId": "bac68dd7-c233-438d-9b54-42d9f1335afd"
   },
   "outputs": [],
   "source": [
    "!pip install pycryptodome\n"
   ]
  },
  {
   "cell_type": "markdown",
   "metadata": {
    "id": "Gj6gRr9g_fFu"
   },
   "source": [
    "Now we import the libaries used for this program"
   ]
  },
  {
   "cell_type": "code",
   "execution_count": null,
   "metadata": {
    "id": "7TNF45_0_rys"
   },
   "outputs": [],
   "source": [
    "from base64 import b64encode, b64decode\n",
    "import hashlib\n",
    "from Crypto.Cipher import AES\n",
    "import os\n",
    "from Crypto.Random import get_random_bytes\n",
    "from getpass import getpass"
   ]
  },
  {
   "cell_type": "markdown",
   "metadata": {
    "id": "FSep-4siAE8A"
   },
   "source": [
    "Now we create the encrypt function\n",
    "\n"
   ]
  },
  {
   "cell_type": "code",
   "execution_count": null,
   "metadata": {
    "id": "GiR_ENrmADbb"
   },
   "outputs": [],
   "source": [
    "def encrypt(plain_text, password):\n",
    "    # generate a random salt\n",
    "    salt = get_random_bytes(AES.block_size)\n",
    "\n",
    "    # use the Scrypt KDF to get a private key from the password\n",
    "    # Scrypt is a password-based key derivation function, useful for storing password hashes for verifying interactive logins.\n",
    "    private_key = hashlib.scrypt(password.encode(),\n",
    "                                 salt=salt, n=2**14, r=8, p=1, dklen=32)\n",
    "\n",
    "    # create cipher config\n",
    "    cipher_config = AES.new(private_key, AES.MODE_GCM)\n",
    "\n",
    "    # return a dictionary with the encrypted text\n",
    "    cipher_text, tag = cipher_config.encrypt_and_digest(\n",
    "        bytes(plain_text, 'utf-8'))\n",
    "    return {\n",
    "        'cipher_text': b64encode(cipher_text).decode('utf-8'),\n",
    "        'salt': b64encode(salt).decode('utf-8'),\n",
    "        'nonce': b64encode(cipher_config.nonce).decode('utf-8'),\n",
    "        'tag': b64encode(tag).decode('utf-8')\n",
    "    }\n"
   ]
  },
  {
   "cell_type": "markdown",
   "metadata": {
    "id": "AL-OZoZ-AbvF"
   },
   "source": [
    "Then we create the decrypt function"
   ]
  },
  {
   "cell_type": "code",
   "execution_count": null,
   "metadata": {
    "id": "Bvan5070AjkY"
   },
   "outputs": [],
   "source": [
    "def decrypt(enc_dict, password):\n",
    "    # decode the dictionary entries from base64\n",
    "    salt = b64decode(enc_dict['salt'])\n",
    "    cipher_text = b64decode(enc_dict['cipher_text'])\n",
    "    nonce = b64decode(enc_dict['nonce'])\n",
    "    tag = b64decode(enc_dict['tag'])\n",
    "\n",
    "\n",
    "    # generate the private key from the password and salt\n",
    "    private_key = hashlib.scrypt(\n",
    "        password.encode(), salt=salt, n=2**14, r=8, p=1, dklen=32)\n",
    "\n",
    "    # create the cipher config\n",
    "    cipher = AES.new(private_key, AES.MODE_GCM, nonce=nonce)\n",
    "\n",
    "    # decrypt the cipher text\n",
    "    decrypted = cipher.decrypt_and_verify(cipher_text, tag)\n",
    "\n",
    "    return decrypted"
   ]
  },
  {
   "cell_type": "markdown",
   "metadata": {
    "id": "xODLJwsqBUFU"
   },
   "source": [
    "Finally we test the methods to see if they work"
   ]
  },
  {
   "cell_type": "code",
   "execution_count": null,
   "metadata": {
    "colab": {
     "base_uri": "https://localhost:8080/"
    },
    "id": "5QNldL-mBaOe",
    "outputId": "4740d45b-9797-4f5d-eb9f-5f8a58d71db8"
   },
   "outputs": [],
   "source": [
    "message = input(\"Enter your message: \")\n",
    "\n",
    "password = getpass(\"Password: \")\n",
    "\n",
    "# First let us encrypt secret message\n",
    "encrypted = encrypt(message, password)\n",
    "print(encrypted)\n",
    "\n"
   ]
  },
  {
   "cell_type": "code",
   "execution_count": null,
   "metadata": {
    "colab": {
     "base_uri": "https://localhost:8080/"
    },
    "id": "vReQ7XKXW9uG",
    "outputId": "cda9356a-66e9-45fe-ce81-dae04db526f7"
   },
   "outputs": [],
   "source": [
    "#Decrypt the password\n",
    "\n",
    "password = getpass(\"Password: \")\n",
    "\n",
    "decrypted = decrypt(encrypted, password)\n",
    "print(bytes.decode(decrypted))"
   ]
  },
  {
   "cell_type": "code",
   "execution_count": null,
   "metadata": {},
   "outputs": [],
   "source": []
  }
 ],
 "metadata": {
  "colab": {
   "provenance": []
  },
  "kernelspec": {
   "display_name": "Python 3 (ipykernel)",
   "language": "python",
   "name": "python3"
  },
  "language_info": {
   "codemirror_mode": {
    "name": "ipython",
    "version": 3
   },
   "file_extension": ".py",
   "mimetype": "text/x-python",
   "name": "python",
   "nbconvert_exporter": "python",
   "pygments_lexer": "ipython3",
   "version": "3.10.6"
  }
 },
 "nbformat": 4,
 "nbformat_minor": 4
}
