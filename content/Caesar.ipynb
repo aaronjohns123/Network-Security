{
 "cells": [
  {
   "cell_type": "markdown",
   "id": "da0ddf3b-3bbd-43e0-ac93-1e7c2a887289",
   "metadata": {},
   "source": [
    "# Caesar Cipher  \n",
    "Encryption and decryption using Caesar Cipher"
   ]
  },
  {
   "cell_type": "code",
   "execution_count": null,
   "id": "2af42df6-98cf-4060-ad9c-b5c54855d838",
   "metadata": {},
   "outputs": [],
   "source": [
    "%pip install -q ipywidgets"
   ]
  },
  {
   "cell_type": "code",
   "execution_count": null,
   "id": "a937191d-3567-4e2a-9177-bb366836f7c1",
   "metadata": {},
   "outputs": [],
   "source": [
    "from ipywidgets import interact\n",
    "import ipywidgets as widgets"
   ]
  },
  {
   "cell_type": "markdown",
   "id": "94ee69e0-2206-4f34-9caa-c80bb2b14fb1",
   "metadata": {},
   "source": [
    "### Encrypt text"
   ]
  },
  {
   "cell_type": "code",
   "execution_count": null,
   "id": "9e67f1ed-e97b-4465-b52c-9a8f9153f02e",
   "metadata": {},
   "outputs": [],
   "source": [
    "@interact(key='0',text='')\n",
    "def encrypt(key,text):\n",
    "    etext = ''\n",
    "    # Shift each character in a string\n",
    "    for t in text:\n",
    "        if(t.islower()): \n",
    "            # Lower Case Ascii\n",
    "            # ord converts a character into an int value.\n",
    "            c = (ord(t) + int(key) - 97) % 26 +97\n",
    "            etext += chr(c)\n",
    "            \n",
    "        elif(t.isupper()): \n",
    "            # Upper Case Ascii\n",
    "            c = (ord(t) + int(key) - 65) % 26 +65\n",
    "            etext += chr(c)\n",
    "        elif(t==\" \"):\n",
    "            etext += \" \"\n",
    "            \n",
    "    print(\"Encrypted Text : \"+etext)"
   ]
  },
  {
   "cell_type": "markdown",
   "id": "ad484cd9-26f6-4765-82b4-1bfd32ff2251",
   "metadata": {},
   "source": [
    "### Decrypt text"
   ]
  },
  {
   "cell_type": "code",
   "execution_count": null,
   "id": "93ef772a-6c26-4924-955c-e9d6126fcaed",
   "metadata": {},
   "outputs": [],
   "source": [
    "@interact(key='0',text='')\n",
    "def decrypt(key,text):\n",
    "    etext = ''\n",
    "    # Shift each character in a string\n",
    "    for t in text:\n",
    "        if(t.islower()): \n",
    "            # Lower Case Ascii\n",
    "            c = (ord(t) - int(key) - 97) % 26 + 97\n",
    "            etext += chr(c)\n",
    "            \n",
    "        elif(t.isupper()): \n",
    "            # Upper Case Ascii\n",
    "            c=(ord(t) - int(key) - 65) % 26 + 65\n",
    "            etext += chr(c)\n",
    "            \n",
    "        elif(t==\" \"):\n",
    "            etext += \" \"\n",
    "            \n",
    "    print(\"Decrypted Text : \"+etext)"
   ]
  },
  {
   "cell_type": "markdown",
   "id": "02ae2239-d92a-489a-9c16-f0c83cfe3789",
   "metadata": {},
   "source": [
    "### Brute Force Cracking:"
   ]
  },
  {
   "cell_type": "code",
   "execution_count": null,
   "id": "4365eb62-8091-46e0-8eb8-f47b165545ec",
   "metadata": {},
   "outputs": [],
   "source": [
    "@interact(etext='')\n",
    "def brute(etext):\n",
    "    for i in range(26):\n",
    "        print(f\"key : {i}\")\n",
    "        decrypt(i,etext)"
   ]
  }
 ],
 "metadata": {
  "kernelspec": {
   "display_name": "Python 3 (ipykernel)",
   "language": "python",
   "name": "python3"
  },
  "language_info": {
   "codemirror_mode": {
    "name": "ipython",
    "version": 3
   },
   "file_extension": ".py",
   "mimetype": "text/x-python",
   "name": "python",
   "nbconvert_exporter": "python",
   "pygments_lexer": "ipython3",
   "version": "3.10.6"
  }
 },
 "nbformat": 4,
 "nbformat_minor": 5
}
